{
 "cells": [
  {
   "source": [
    "# LAB 2. Ukadan Ali.\n",
    "\n",
    "\n"
   ],
   "cell_type": "markdown",
   "metadata": {}
  },
  {
   "source": [
    "1. Chess rook walks horizontally or vertically. Two different cells of the chessboard are given, determine whether the rook can get from the first cage to the second one move.  \n",
    "Input format  \n",
    "The program receives four numbers from 1 to 8 each, setting the column number and the number of the line first for the first cell, then for the second cell.  \n",
    "Output format  \n",
    "The program should withdraw YES if the rook can be hit by the second or NO from the first cell.  \n",
    "Sample Input:  \n",
    "4  \n",
    "4  \n",
    "5  \n",
    "5  \n",
    "Sample Output:  \n",
    "No  \n",
    "\n"
   ],
   "cell_type": "markdown",
   "metadata": {}
  },
  {
   "cell_type": "code",
   "execution_count": 6,
   "metadata": {
    "tags": []
   },
   "outputs": [
    {
     "output_type": "stream",
     "name": "stdout",
     "text": "Yes\n"
    }
   ],
   "source": [
    "x1, y1, x2, y2 = map(int, input().split())\n",
    "if (x1-x2)*(y1-y2) == 0:\n",
    "    print(\"Yes\")\n",
    "else:\n",
    "    print(\"No\")"
   ]
  },
  {
   "source": [
    "2. Chess king walks horizontally, vertically and diagonally, but only on one cell. Two different chessboard cells are given, determine whether the king can get from the first cage to the second one move.  \n",
    "Input format  \n",
    "The program receives four numbers from 1 to 8 each, setting the column number and the number of the line first for the first cell, then for the second cell.  \n",
    "Output format  \n",
    "The program must withdraw YES if the king's move can get into the second or NO from the first cage.  \n",
    "Sample Input:  \n",
    "4  \n",
    "4  \n",
    "5  \n",
    "5  \n",
    "Sample Output:  \n",
    "YES  \n",
    " \n"
   ],
   "cell_type": "markdown",
   "metadata": {}
  },
  {
   "cell_type": "code",
   "execution_count": 10,
   "metadata": {
    "tags": []
   },
   "outputs": [
    {
     "output_type": "stream",
     "name": "stdout",
     "text": "YES\n"
    }
   ],
   "source": [
    "a, b, c, d = map(int, input().split())\n",
    "if (c == a + 1 or c == a - 1 or c == a) and (d == b + 1 or d == b - 1 or d == b):\n",
    "    print(\"YES\")\n",
    "else:\n",
    "    print(\"NO\")\n"
   ]
  },
  {
   "source": [
    "3. Chess elephant walks diagonally. Two different cells of the chessboard are given, determine whether the elephant can get from the first cage to the second one move.  \n",
    "Input format  \n",
    "The program receives four numbers from 1 to 8 each, setting the column number and the number of the line first for the first cell, then for the second cell.  \n",
    "Output format  \n",
    "The program should withdraw YES if the first cage by the elephant's stroke can get into the second or NO otherwise.\n",
    "Sample Input:  \n",
    "4  \n",
    "4  \n",
    "5  \n",
    "5  \n",
    "Sample Output:  \n",
    "YES  \n",
    "\n"
   ],
   "cell_type": "markdown",
   "metadata": {}
  },
  {
   "cell_type": "code",
   "execution_count": 9,
   "metadata": {
    "tags": []
   },
   "outputs": [
    {
     "output_type": "stream",
     "name": "stdout",
     "text": "NO\n"
    }
   ],
   "source": [
    "import math\n",
    "a, b, c, d = map(int, input().split())\n",
    "if abs(a - c) == abs(b - d):\n",
    "    print(\"YES\")\n",
    "else:\n",
    "    print(\"NO\")\n"
   ]
  },
  {
   "source": [
    "4. The chess queen walks diagonally, horizontally or vertically. Two different cells of the chessboard are given, determine whether the queen can get from the first cage to the second one move.  \n",
    "Input format  \n",
    "The program receives four numbers from 1 to 8 each, setting the column number and the number of the line first for the first cell, then for the second cell.  \n",
    "Output format  \n",
    "The program must withdraw YES if the first cell by the queen's stroke can get into the second or NO otherwise.  \n",
    "Sample Input 1:  \n",
    "1  \n",
    "1  \n",
    "2  \n",
    "2  \n",
    "Sample Output 1:  \n",
    "YES  \n",
    "Sample Input 2:  \n",
    "1  \n",
    "1  \n",
    "2  \n",
    "3  \n",
    "Sample Output 2:  \n",
    "No  \n",
    "\n"
   ],
   "cell_type": "markdown",
   "metadata": {}
  },
  {
   "cell_type": "code",
   "execution_count": 11,
   "metadata": {
    "tags": []
   },
   "outputs": [
    {
     "output_type": "stream",
     "name": "stdout",
     "text": "NO\n"
    }
   ],
   "source": [
    "x1, y1, x2, y2 = map(int, input().split())\n",
    "\n",
    "if abs(x1-x2) <= 1 and abs(y1-y2) <= 1 or x1 == x2 or y1 == y2:\n",
    "    print ('YES')\n",
    "else:\n",
    "    print ('NO')"
   ]
  },
  {
   "source": [
    "5. Chess horse walks  - two cells vertically in any direction and one cell horizontally, or vice versa. Two different cells of the chessboard are given, determine whether the horse can get from the first cage to the second one move.  \n",
    "Input format  \n",
    "The program receives four numbers from 1 to 8 each, setting the column number and the number of the line first for the first cell, then for the second cell.  \n",
    "Output format  \n",
    "The program should withdraw YES if the first cage by the stroke of the horse can get into the second or NO otherwise.  \n",
    "Sample Input 1:  \n",
    "1  \n",
    "1  \n",
    "1  \n",
    "4  \n",
    "Sample Output 1:  \n",
    "No  \n",
    "Sample Input 2:  \n",
    "1  \n",
    "1  \n",
    "8  \n",
    "8  \n",
    "Sample Output 2:  \n",
    "No  \n",
    "\n"
   ],
   "cell_type": "markdown",
   "metadata": {}
  },
  {
   "cell_type": "code",
   "execution_count": 12,
   "metadata": {
    "tags": []
   },
   "outputs": [
    {
     "output_type": "stream",
     "name": "stdout",
     "text": "YES\n"
    }
   ],
   "source": [
    "x1, y1, x2, y2 = map(int, input().split())\n",
    "if (x1 - 1 == x2 or x1 + 1 == x2) and (y1 - 2 == y2 or y1 + 2 == y2):\n",
    "    print ('YES')\n",
    "elif (x1 - 2 == x2 or x1 + 2 == x2) and (y1 - 1 == y2 or y1 + 1 == y2):\n",
    "    print ('YES')\n",
    "else:\n",
    "    print ('NO')"
   ]
  },
  {
   "source": [
    "6. The chocolate bar has the appearance of a rectangle, divided into NxM slices. Chocolate can be broken once in a straight line into two parts.   Determine whether it is possible to break off from the chocolate in this way exactly K slices.  \n",
    "Input format  \n",
    "The program receives three numbers: N, M, K  \n",
    "Output format  \n",
    "Программа должна вывести одно из двух слов: YES или NO.  \n",
    "Sample Input 1:  \n",
    "4  \n",
    "2  \n",
    "6  \n",
    "Sample Output 1:  \n",
    "YES  \n",
    "Sample Input 2:  \n",
    "2  \n",
    "10  \n",
    "7  \n",
    "Sample Output 2:  \n",
    "No  \n",
    "\n"
   ],
   "cell_type": "markdown",
   "metadata": {}
  },
  {
   "cell_type": "code",
   "execution_count": 13,
   "metadata": {
    "tags": []
   },
   "outputs": [
    {
     "output_type": "stream",
     "name": "stdout",
     "text": "YES\n"
    }
   ],
   "source": [
    "a,b,k = map(int, input().split())\n",
    "if (k % a == 0 and k / a <= b) or (k % b == 0 and k / b <= a):\n",
    "    print(\"YES\")\n",
    "else:\n",
    "    print(\"NO\")"
   ]
  },
  {
   "source": [
    "7. Yasha swam in a pool the size of the NxM meters and was tired. At this point, he discovered that he was at an X-meter distance from one of the   long sides (not necessarily from the nearest one) and the Y meters from one of the short sides. What is the minimum distance Yasha must travel to   get out of the pool to the side?  \n",
    "Input format  \n",
    "The program receives the entry of the number N, M, X, Y.  \n",
    "Output format  \n",
    "The program should bring out the number of meters that you need to swim Yasha to the side.  \n",
    "Sample Input:  \n",
    "23  \n",
    "52  \n",
    "8  \n",
    "43  \n",
    "Sample Output:  \n",
    "8  \n",
    "\n"
   ],
   "cell_type": "markdown",
   "metadata": {}
  },
  {
   "cell_type": "code",
   "execution_count": 14,
   "metadata": {
    "tags": []
   },
   "outputs": [
    {
     "output_type": "stream",
     "name": "stdout",
     "text": "8\n"
    }
   ],
   "source": [
    "n,m,x,y = map(int, input().split())\n",
    "print(min(x,n-x,y,m-y) if n<m else min(x, m-x, y, n-y))"
   ]
  },
  {
   "source": [
    "8. Three numbers are given. Arrange them in non-decreasing order.  \n",
    "Input format  \n",
    "Three numbers are given.  \n",
    "Output format  \n",
    "Get the answer to the task.  \n",
    "Sample Input:  \n",
    "1  \n",
    "2  \n",
    "1  \n",
    "Sample Output:  \n",
    "1 1 2  \n",
    "\n"
   ],
   "cell_type": "markdown",
   "metadata": {}
  },
  {
   "cell_type": "code",
   "execution_count": 28,
   "metadata": {
    "tags": []
   },
   "outputs": [
    {
     "output_type": "stream",
     "name": "stdout",
     "text": "3 47 122\n"
    }
   ],
   "source": [
    "a,b,c = map(int, input().split())\n",
    "print(min(min(a,b),c),a+b+c-max(max(a,b),c)-min(min(a,b),c),max(max(a,b),c))"
   ]
  },
  {
   "source": [
    "9. There are two boxes, A1×B1×C1 and A2×B2×C2 are size of boxes. Define if it is possible to totally cover one box in the another. (Hint: 1x1x1 can   be covered by 2x1x1 box)  \n",
    "Input format  \n",
    "A1, B1, C1, A2, B2, C2.  \n",
    "Output format  \n",
    "The program should bring out one of the following lines:  \n",
    "Boxes are equal, if the boxes are the same,   \n",
    "the first box is smaller than the second one, if the first box can be put in the second,   \n",
    "the first box is larger than the second one, if the second box can be put in the first, Boxes are incomparable, in all other cases.  \n",
    "Sample Input 1:  \n",
    "1  \n",
    "2  \n",
    "3  \n",
    "3  \n",
    "2  \n",
    "1  \n",
    "Sample Output 1:  \n",
    "Boxes are equal  \n",
    "\n"
   ],
   "cell_type": "markdown",
   "metadata": {}
  },
  {
   "cell_type": "code",
   "execution_count": 7,
   "metadata": {
    "tags": []
   },
   "outputs": [
    {
     "output_type": "stream",
     "name": "stdout",
     "text": "The first box is smaller than the second one\n"
    }
   ],
   "source": [
    "a,b,c = map(int, input().split())\n",
    "a2,b2,c2 = map(int, input().split())\n",
    "a,b,c = min(min(a,b),c),a+b+c-max(max(a,b),c)-min(min(a,b),c),max(max(a,b),c)\n",
    "a2,b2,c2 = min(min(a2,b2),c2),a2+b2+c2-max(max(a2,b2),c2)-min(min(a2,b2),c2),max(max(a2,b2),c2)\n",
    "if a == a2 and b == b2 and c == c2:\n",
    "    print('Boxes are equal')\n",
    "elif c <= c2 and a <= a2 and b <= b2:\n",
    "    print('The first box is smaller than the second one')\n",
    "elif c >= c2 and a >= a2 and b >= b2:\n",
    "    print('The first box is larger than the second one')\n",
    "else:\n",
    "    print('Boxes are incomparable')"
   ]
  },
  {
   "source": [
    "10. For this whole number N print out all squares of natural numbers, not exceeding N, in ascending order.  \n",
    "Input format  \n",
    "A natural number is introduced.  \n",
    "Output format  \n",
    "Get the answer to the task.  \n",
    "Sample Input:  \n",
    "50  \n",
    "Sample Output:  \n",
    "1 4 9 16 25 36 49  \n",
    "\n"
   ],
   "cell_type": "markdown",
   "metadata": {}
  },
  {
   "cell_type": "code",
   "execution_count": 6,
   "metadata": {
    "tags": []
   },
   "outputs": [
    {
     "output_type": "stream",
     "name": "stdout",
     "text": "1 4 9 16 25 36 49 64 "
    }
   ],
   "source": [
    "n = int(input())\n",
    "i = 1\n",
    "while i**2<=n:\n",
    "    print(i**2,end=\" \")\n",
    "    i+=1"
   ]
  },
  {
   "source": [
    "11. Given an integer number, not less than 2. Bring out its smallest natural divider, different from the one.  \n",
    "Input format  \n",
    "A whole positive number is introduced.  \n",
    "Output format  \n",
    "Get the answer to the task.  \n",
    "Sample Input:  \n",
    "15  \n",
    "Sample Output:  \n",
    "3  \n",
    "\n"
   ],
   "cell_type": "markdown",
   "metadata": {}
  },
  {
   "cell_type": "code",
   "execution_count": 25,
   "metadata": {
    "tags": []
   },
   "outputs": [
    {
     "output_type": "stream",
     "name": "stdout",
     "text": "3\n"
    }
   ],
   "source": [
    "n = int(input())\n",
    "for i in range(2,n+1):\n",
    "    if n%i==0:\n",
    "        print(i)\n",
    "        break"
   ]
  },
  {
   "source": [
    "12. For this number N print out all whole degrees of deuce, not exceeding N, in ascending order.  \n",
    "Input format  \n",
    "A natural number is introduced.  \n",
    "Output format  \n",
    "Get the answer to the task.  \n",
    "Sample Input:  \n",
    "50  \n",
    "Sample Output:  \n",
    "1 2 4 8 16 32  \n",
    "\n"
   ],
   "cell_type": "markdown",
   "metadata": {}
  },
  {
   "cell_type": "code",
   "execution_count": 23,
   "metadata": {
    "tags": []
   },
   "outputs": [
    {
     "output_type": "stream",
     "name": "stdout",
     "text": "1 2 4 8 16 32 "
    }
   ],
   "source": [
    "n = int(input())\n",
    "j = 2\n",
    "i = 0\n",
    "while(j**i<=n):\n",
    "    print(j**i,end=\" \")\n",
    "    i+=1"
   ]
  },
  {
   "source": [
    "13. Determine the amount of all the sequence elements that ends in number 0.  \n",
    "Input format  \n",
    "A sequence of whole numbers is introduced, ending with the number 0 (the number 0 itself is not included in the sequence, but serves as a sign of   its end.  \n",
    "Output format  \n",
    "Get the answer to the task.  \n",
    "Sample Input:  \n",
    "3  \n",
    "6  \n",
    "8  \n",
    "0  \n",
    "Sample Output:  \n",
    "17  \n",
    "\n"
   ],
   "cell_type": "markdown",
   "metadata": {}
  },
  {
   "cell_type": "code",
   "execution_count": 31,
   "metadata": {
    "tags": []
   },
   "outputs": [
    {
     "output_type": "stream",
     "name": "stdout",
     "text": "17\n"
    }
   ],
   "source": [
    "n = int(input())\n",
    "sum = 0\n",
    "while(n!=0):\n",
    "    sum+=n\n",
    "    n = int(input())\n",
    "print(sum)"
   ]
  },
  {
   "source": [
    "14. The sequence consists of natural numbers and ends with the number 0. Determine how many elements of this sequence are equal to the largest element of this sequence.  \n",
    "Input format  \n",
    "A non-empty sequence of whole numbers is introduced, ending with the number 0 (the number 0 itself is not included in the sequence, but serves as a   sign of its end).  \n",
    "Output format  \n",
    "Get the answer to the task.  \n",
    "Sample Input 1:  \n",
    "1  \n",
    "7  \n",
    "9  \n",
    "0  \n",
    "Sample Output 1:  \n",
    "1  \n"
   ],
   "cell_type": "markdown",
   "metadata": {}
  },
  {
   "source": [
    "n = int(input())\n",
    "a = []\n",
    "while(n!=0):\n",
    "    a.append(n)\n",
    "    n = int(input())\n",
    "print(a.count(max(a)))"
   ],
   "cell_type": "code",
   "metadata": {
    "tags": []
   },
   "execution_count": 1,
   "outputs": [
    {
     "output_type": "stream",
     "name": "stdout",
     "text": "1\n"
    }
   ]
  },
  {
   "source": [
    "15. Fibonacci's sequence is defined as:  \n",
    "F(0) = 0, F(1) = 1, ..., F(n) = F (n-1) + F (n-2).  \n",
    "Given the natural number A. Determine what the number of Fibonacci is, that is, put out such a number N, that F(N) is A. If A is not the number   Fibonacci, enter the number -1.  \n",
    "Input format  \n",
    "Introduced the natural number A > 1.  \n",
    "Output format  \n",
    "Get the answer to the task.  \n",
    "Sample Input:  \n",
    "8  \n",
    "Sample Output:  \n",
    "6  \n",
    "\n"
   ],
   "cell_type": "markdown",
   "metadata": {}
  },
  {
   "cell_type": "code",
   "execution_count": 12,
   "metadata": {
    "tags": []
   },
   "outputs": [
    {
     "output_type": "stream",
     "name": "stdout",
     "text": "8\n"
    }
   ],
   "source": [
    "#to find n-th fibonaccy number\n",
    "fib0 = 0\n",
    "fib1 = 1\n",
    "n = int(input())\n",
    "while n > 0:\n",
    "    fib0, fib1 = fib1, fib0 + fib1\n",
    "    n -= 1\n",
    "print(fib0)"
   ]
  },
  {
   "cell_type": "code",
   "execution_count": 23,
   "metadata": {
    "tags": []
   },
   "outputs": [
    {
     "output_type": "stream",
     "name": "stdout",
     "text": "3\n"
    }
   ],
   "source": [
    "#to find position of fibonaccy number\n",
    "n = int(input())\n",
    "fib0 = 0\n",
    "fib1 = 1\n",
    "i = 1\n",
    "if n==0:\n",
    "    print(0)\n",
    "else:\n",
    "    while True:\n",
    "        fib0, fib1 = fib1, fib0 + fib1\n",
    "        if fib0==n:\n",
    "            print(i)\n",
    "            break\n",
    "        if fib1>n:\n",
    "            print(-1)\n",
    "            break\n",
    "        i+=1\n"
   ]
  },
  {
   "source": [
    "16. The sequence element is called a local maximum if it is strictly larger than the previous and next sequence element. The first and last element   of the sequence are not local maximums. The sequence of natural numbers, which ends with the number 0, is given. Determine the number of strict   local highs in this sequence.  \n",
    "Input format  \n",
    "A sequence of natural numbers is introduced, ending with the number 0 (the number 0 itself is not included in the sequence, but serves as a sign of   its end).  \n",
    "Output format  \n",
    "Get the answer to the task.  \n",
    "Sample Input:  \n",
    "1  \n",
    "2  \n",
    "1  \n",
    "2  \n",
    "1  \n",
    "0  \n",
    "Sample Output:  \n",
    "2  \n",
    "\n"
   ],
   "cell_type": "markdown",
   "metadata": {}
  },
  {
   "cell_type": "code",
   "execution_count": 35,
   "metadata": {
    "tags": []
   },
   "outputs": [
    {
     "output_type": "stream",
     "name": "stdout",
     "text": "3\n"
    }
   ],
   "source": [
    "n = int(input())\n",
    "a = []\n",
    "while(n!=0):\n",
    "    a.append(n)\n",
    "    n = int(input())\n",
    "cnt = 0\n",
    "for i in range(1,len(a)-1):\n",
    "    if a[i-1]<a[i]>a[i+1]:\n",
    "        cnt+=1\n",
    "print(cnt)"
   ]
  },
  {
   "source": [
    "17.  A list is given, orderly by the non-descending of the elements in it.  \n",
    "Input format  \n",
    "The first line introduces the number of items in the array. The second line introduces elements of the array.  \n",
    "Output format  \n",
    "Get the answer to the task.  \n",
    "Sample Input:  \n",
    "6  \n",
    "1 2 2 3 3 3  \n",
    "Sample Output:  \n",
    "3  \n",
    "\n"
   ],
   "cell_type": "markdown",
   "metadata": {}
  },
  {
   "source": [
    "# Sorry, but in the task it was not explained what I should find, max? count of max elements? last element? amount of different numbers?\n",
    "# So i just find maximum for you\n",
    "for i in range(int(input())):\n",
    "    x = int(input())\n",
    "print(x)"
   ],
   "cell_type": "code",
   "metadata": {
    "tags": []
   },
   "execution_count": 27,
   "outputs": [
    {
     "output_type": "stream",
     "name": "stdout",
     "text": "1\n"
    }
   ]
  },
  {
   "source": [
    "18.  Cycle the items on the list to the right (A[0]) moves to place A[1], A[1] to place A[2], ... the last element goes to place A[0].  \n",
    "Input format  \n",
    "The first line introduces the number of items in the array. The second line introduces elements of the array.  \n",
    "Output format  \n",
    "Get the answer to the task.  \n",
    "Sample Input:  \n",
    "5  \n",
    "1 2 3 4 5  \n",
    "Sample Output:  \n",
    "5 1 2 3 4  \n",
    "\n"
   ],
   "cell_type": "markdown",
   "metadata": {}
  },
  {
   "cell_type": "code",
   "execution_count": 45,
   "metadata": {
    "tags": []
   },
   "outputs": [
    {
     "output_type": "stream",
     "name": "stdout",
     "text": "6 1 2 3 4 5 "
    }
   ],
   "source": [
    "n = int(input())\n",
    "a = list(map(int, input().split()))\n",
    "print(a[n-1],end = ' ')\n",
    "for i in range(0,n-1):\n",
    "    print(a[i],end = ' ')"
   ]
  },
  {
   "source": [
    "19.  An array of numbers has been given. Calculate how many pairs of elements in it are equal. It is believed that any two elements equal form one   pair, which must be counted.  \n",
    "Input format  \n",
    "The first line introduces the number of items in the array. The second line introduces elements of the array.  \n",
    "Output format  \n",
    "Get the answer to the task.  \n",
    "Sample Input 1:  \n",
    "5  \n",
    "1 2 3 2 3  \n",
    "Sample Output 1:  \n",
    "2  \n",
    "\n"
   ],
   "cell_type": "markdown",
   "metadata": {}
  },
  {
   "cell_type": "code",
   "execution_count": 50,
   "metadata": {
    "tags": []
   },
   "outputs": [
    {
     "output_type": "stream",
     "name": "stdout",
     "text": "2\n"
    }
   ],
   "source": [
    "n = int(input()) \n",
    "a = list(map(int, input().split()))\n",
    "a.sort()\n",
    "i = cnt = 0\n",
    "while i < n - 1:  \n",
    "    if a[i] == a[i + 1]: \n",
    "        cnt += 1 \n",
    "        i = i + 2  \n",
    "    else: \n",
    "        i += 1\n",
    "print(cnt)  "
   ]
  },
  {
   "source": [
    "20. N pins were put in a row, numbering them from left to right numbers from 1 to N. Then on this row threw K balls, with the i-ball knocked down   all the skittles with numbers from li  to ri  inclusive. Define pins that are still on their place.  \n",
    "Input format  \n",
    "Program gets N pins and K throws. Then K pairs of numbers li, ri, and 1 ≤ li, ri  ≤ N.  \n",
    "Output format  \n",
    "The program should deduce a sequence of N characters where the j-y symbol is \"I\" if j-I pin is left standing, or \".\" if j-I pin was knocked down.  \n",
    "Sample Input:  \n",
    "10 3  \n",
    "8 10  \n",
    "2 5  \n",
    "3 6  \n",
    "Sample Output:  \n",
    "I..... I...  \n",
    "\n"
   ],
   "cell_type": "markdown",
   "metadata": {}
  },
  {
   "cell_type": "code",
   "execution_count": 1,
   "metadata": {
    "tags": []
   },
   "outputs": [
    {
     "output_type": "stream",
     "name": "stdout",
     "text": "I.....I..."
    }
   ],
   "source": [
    "n, k = map(int, input().split())\n",
    "a = [i for i in range(1, n+1)]\n",
    "for i in range(k):\n",
    "    l, r = map(int, input().split())\n",
    "    for j in range(l-1,r):\n",
    "        a[j] = 0\n",
    "for i in range(0, n):\n",
    "    if a[i]==0:\n",
    "        print('.',end = \"\")\n",
    "    else:\n",
    "        print('I',end = \"\")"
   ]
  },
  {
   "cell_type": "code",
   "execution_count": null,
   "metadata": {},
   "outputs": [],
   "source": []
  }
 ],
 "metadata": {
  "kernelspec": {
   "name": "Python 3.8.5 32-bit",
   "display_name": "Python 3.8.5 32-bit",
   "metadata": {
    "interpreter": {
     "hash": "e346b6f1fba7424280147caa16e9216feb3bc5767897838621715511d2f4701d"
    }
   }
  }
 },
 "nbformat": 4,
 "nbformat_minor": 4
}
