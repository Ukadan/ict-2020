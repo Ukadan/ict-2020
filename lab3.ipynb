{
 "metadata": {
  "language_info": {
   "codemirror_mode": {
    "name": "ipython",
    "version": 3
   },
   "file_extension": ".py",
   "mimetype": "text/x-python",
   "name": "python",
   "nbconvert_exporter": "python",
   "pygments_lexer": "ipython3",
   "version": "3.8.5-final"
  },
  "orig_nbformat": 2,
  "kernelspec": {
   "name": "Python 3.8.5 32-bit",
   "display_name": "Python 3.8.5 32-bit",
   "metadata": {
    "interpreter": {
     "hash": "e346b6f1fba7424280147caa16e9216feb3bc5767897838621715511d2f4701d"
    }
   }
  }
 },
 "nbformat": 4,
 "nbformat_minor": 2,
 "cells": [
  {
   "source": [
    "Ukadab Ali Lab3.\n"
   ],
   "cell_type": "code",
   "metadata": {},
   "execution_count": null,
   "outputs": []
  },
  {
   "source": [
    "#1 task\n",
    "def isVowel(c):\n",
    "    c = c.lower()\n",
    "    return c=='a' or c=='e' or c=='y' or c=='u' or c=='i' or c=='o'\n",
    "\n",
    "s = input()\n",
    "s2 = \"\"\n",
    "s = s.lower()\n",
    "for i in s:\n",
    "    if not isVowel(i):\n",
    "        s2+=\".\"\n",
    "        s2+=i\n",
    "print(s2)"
   ],
   "cell_type": "code",
   "metadata": {},
   "execution_count": 1,
   "outputs": [
    {
     "output_type": "stream",
     "name": "stdout",
     "text": [
      ".c.d.f.r.c.s\n"
     ]
    }
   ]
  },
  {
   "cell_type": "code",
   "execution_count": 21,
   "metadata": {},
   "outputs": [
    {
     "output_type": "stream",
     "name": "stdout",
     "text": [
      "2\n"
     ]
    }
   ],
   "source": [
    "#2 task\n",
    "s = input().split('+')\n",
    "print('+'.join(sorted(s)))\n"
   ]
  },
  {
   "cell_type": "code",
   "execution_count": 3,
   "metadata": {},
   "outputs": [
    {
     "output_type": "stream",
     "name": "stdout",
     "text": [
      "ABCE\n"
     ]
    }
   ],
   "source": [
    "#3 task\n",
    "s = input()\n",
    "print(s[0].upper()+s[1:])"
   ]
  },
  {
   "cell_type": "code",
   "execution_count": 36,
   "metadata": {},
   "outputs": [
    {
     "output_type": "stream",
     "name": "stdout",
     "text": [
      "NO\n"
     ]
    }
   ],
   "source": [
    "#4 task\n",
    "s = input()\n",
    "print(\"YES\" if \"1111111\" in s or \"0000000\" in s else \"NO\")"
   ]
  },
  {
   "cell_type": "code",
   "execution_count": 43,
   "metadata": {},
   "outputs": [
    {
     "output_type": "stream",
     "name": "stdout",
     "text": [
      "CHAT WITH HER!\n"
     ]
    }
   ],
   "source": [
    "#5 task\n",
    "print(\"CHAT WITH HER!\" if len(set(list(input())))%2==0 else \"IGNORE HIM!\")"
   ]
  },
  {
   "cell_type": "code",
   "execution_count": 57,
   "metadata": {},
   "outputs": [
    {
     "output_type": "stream",
     "name": "stdout",
     "text": [
      "matrix\n"
     ]
    }
   ],
   "source": [
    "#6 task\n",
    "s = input()\n",
    "lowers = uppers = 0\n",
    "for i in s:\n",
    "    if i.isupper():\n",
    "        uppers+=1\n",
    "    else:\n",
    "        lowers+=1\n",
    "print(s.upper() if uppers>lowers else s.lower())\n"
   ]
  },
  {
   "cell_type": "code",
   "execution_count": 63,
   "metadata": {},
   "outputs": [
    {
     "output_type": "stream",
     "name": "stdout",
     "text": [
      "YES\n"
     ]
    }
   ],
   "source": [
    "#7 task\n",
    "n = int(input())\n",
    "print(\"YES\" if len(set(list(input().lower())))==26 else \"NO\")\n"
   ]
  },
  {
   "cell_type": "code",
   "execution_count": 66,
   "metadata": {},
   "outputs": [
    {
     "output_type": "stream",
     "name": "stdout",
     "text": [
      "NO\n"
     ]
    }
   ],
   "source": [
    "#8 task\n",
    "\n",
    "s = input()\n",
    "print(\"YES\" if s==s[::-1] else \"NO\")\n",
    "\n"
   ]
  },
  {
   "cell_type": "code",
   "execution_count": 68,
   "metadata": {},
   "outputs": [
    {
     "output_type": "stream",
     "name": "stdout",
     "text": [
      "Anton\n"
     ]
    }
   ],
   "source": [
    "#9 task\n",
    "s=input()\n",
    "d=s.count('D')\n",
    "a=s.count('A')\n",
    "if d>a:\n",
    "    print(\"Danik\")\n",
    "elif d<a:\n",
    "    print(\"Anton\")\n",
    "else:\n",
    "    print(\"Friendship\")"
   ]
  },
  {
   "cell_type": "code",
   "execution_count": 72,
   "metadata": {},
   "outputs": [
    {
     "output_type": "stream",
     "name": "stdout",
     "text": [
      "hello\n"
     ]
    }
   ],
   "source": [
    "#10 task\n",
    "s = input()\n",
    "upper = 0\n",
    "for i in s:\n",
    "    if(i.isupper()):\n",
    "        upper+=1\n",
    "if(upper==len(s)):\n",
    "    print(s.lower())\n",
    "elif(upper==len(s)-1 and s[0].islower()):\n",
    "    print(s[0].upper()+s[1:].lower())\n",
    "else:\n",
    "    print(s)\n"
   ]
  },
  {
   "cell_type": "code",
   "execution_count": 74,
   "metadata": {},
   "outputs": [
    {
     "output_type": "stream",
     "name": "stdout",
     "text": [
      "0 \n"
     ]
    }
   ],
   "source": [
    "#11 task\n",
    "n = int(input())\n",
    "s = input()\n",
    "z_cnt = s.count('z')\n",
    "n_cnt = s.count('n')\n",
    "print('1 '*n_cnt+'0 ' * z_cnt)\n"
   ]
  },
  {
   "cell_type": "code",
   "execution_count": 7,
   "metadata": {},
   "outputs": [
    {
     "output_type": "stream",
     "name": "stdout",
     "text": [
      "5\n"
     ]
    }
   ],
   "source": [
    "#12 task\n",
    "n = int(input())\n",
    "s = input()\n",
    "cnt = 0\n",
    "for i in range(n):\n",
    "    if s[i:i+3] == \"xxx\":\n",
    "        cnt += 1\n",
    "print(cnt)"
   ]
  },
  {
   "cell_type": "code",
   "execution_count": null,
   "metadata": {},
   "outputs": [],
   "source": []
  }
 ]
}
